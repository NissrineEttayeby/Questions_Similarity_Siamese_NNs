{
 "cells": [
  {
   "attachments": {},
   "cell_type": "markdown",
   "id": "e18ee819",
   "metadata": {},
   "source": [
    "# Deep Learning Project : Questions Similarity with Siamese Neural Networks"
   ]
  },
  {
   "cell_type": "code",
   "execution_count": 1,
   "id": "b9d98ab3",
   "metadata": {},
   "outputs": [
    {
     "name": "stdout",
     "output_type": "stream",
     "text": [
      "   id  qid1  qid2                                          question1  \\\n",
      "0   0     1     2  What is the step by step guide to invest in sh...   \n",
      "1   1     3     4  What is the story of Kohinoor (Koh-i-Noor) Dia...   \n",
      "2   2     5     6  How can I increase the speed of my internet co...   \n",
      "3   3     7     8  Why am I mentally very lonely? How can I solve...   \n",
      "4   4     9    10  Which one dissolve in water quikly sugar, salt...   \n",
      "\n",
      "                                           question2  is_duplicate  \n",
      "0  What is the step by step guide to invest in sh...             0  \n",
      "1  What would happen if the Indian government sto...             0  \n",
      "2  How can Internet speed be increased by hacking...             0  \n",
      "3  Find the remainder when [math]23^{24}[/math] i...             0  \n",
      "4            Which fish would survive in salt water?             0  \n"
     ]
    }
   ],
   "source": [
    "import pandas as pd\n",
    "\n",
    "\n",
    "data = pd.read_csv('quora_duplicate_questions.tsv', sep='\\t')\n",
    "print(data.head())\n"
   ]
  },
  {
   "cell_type": "code",
   "execution_count": 2,
   "id": "cf52c826",
   "metadata": {},
   "outputs": [],
   "source": [
    "data = pd.DataFrame(data)"
   ]
  },
  {
   "cell_type": "code",
   "execution_count": 3,
   "id": "556b238e",
   "metadata": {},
   "outputs": [
    {
     "data": {
      "text/html": [
       "<div>\n",
       "<style scoped>\n",
       "    .dataframe tbody tr th:only-of-type {\n",
       "        vertical-align: middle;\n",
       "    }\n",
       "\n",
       "    .dataframe tbody tr th {\n",
       "        vertical-align: top;\n",
       "    }\n",
       "\n",
       "    .dataframe thead th {\n",
       "        text-align: right;\n",
       "    }\n",
       "</style>\n",
       "<table border=\"1\" class=\"dataframe\">\n",
       "  <thead>\n",
       "    <tr style=\"text-align: right;\">\n",
       "      <th></th>\n",
       "      <th>id</th>\n",
       "      <th>qid1</th>\n",
       "      <th>qid2</th>\n",
       "      <th>question1</th>\n",
       "      <th>question2</th>\n",
       "      <th>is_duplicate</th>\n",
       "    </tr>\n",
       "  </thead>\n",
       "  <tbody>\n",
       "    <tr>\n",
       "      <th>0</th>\n",
       "      <td>0</td>\n",
       "      <td>1</td>\n",
       "      <td>2</td>\n",
       "      <td>What is the step by step guide to invest in sh...</td>\n",
       "      <td>What is the step by step guide to invest in sh...</td>\n",
       "      <td>0</td>\n",
       "    </tr>\n",
       "    <tr>\n",
       "      <th>1</th>\n",
       "      <td>1</td>\n",
       "      <td>3</td>\n",
       "      <td>4</td>\n",
       "      <td>What is the story of Kohinoor (Koh-i-Noor) Dia...</td>\n",
       "      <td>What would happen if the Indian government sto...</td>\n",
       "      <td>0</td>\n",
       "    </tr>\n",
       "    <tr>\n",
       "      <th>2</th>\n",
       "      <td>2</td>\n",
       "      <td>5</td>\n",
       "      <td>6</td>\n",
       "      <td>How can I increase the speed of my internet co...</td>\n",
       "      <td>How can Internet speed be increased by hacking...</td>\n",
       "      <td>0</td>\n",
       "    </tr>\n",
       "    <tr>\n",
       "      <th>3</th>\n",
       "      <td>3</td>\n",
       "      <td>7</td>\n",
       "      <td>8</td>\n",
       "      <td>Why am I mentally very lonely? How can I solve...</td>\n",
       "      <td>Find the remainder when [math]23^{24}[/math] i...</td>\n",
       "      <td>0</td>\n",
       "    </tr>\n",
       "    <tr>\n",
       "      <th>4</th>\n",
       "      <td>4</td>\n",
       "      <td>9</td>\n",
       "      <td>10</td>\n",
       "      <td>Which one dissolve in water quikly sugar, salt...</td>\n",
       "      <td>Which fish would survive in salt water?</td>\n",
       "      <td>0</td>\n",
       "    </tr>\n",
       "    <tr>\n",
       "      <th>...</th>\n",
       "      <td>...</td>\n",
       "      <td>...</td>\n",
       "      <td>...</td>\n",
       "      <td>...</td>\n",
       "      <td>...</td>\n",
       "      <td>...</td>\n",
       "    </tr>\n",
       "    <tr>\n",
       "      <th>404285</th>\n",
       "      <td>404285</td>\n",
       "      <td>433578</td>\n",
       "      <td>379845</td>\n",
       "      <td>How many keywords are there in the Racket prog...</td>\n",
       "      <td>How many keywords are there in PERL Programmin...</td>\n",
       "      <td>0</td>\n",
       "    </tr>\n",
       "    <tr>\n",
       "      <th>404286</th>\n",
       "      <td>404286</td>\n",
       "      <td>18840</td>\n",
       "      <td>155606</td>\n",
       "      <td>Do you believe there is life after death?</td>\n",
       "      <td>Is it true that there is life after death?</td>\n",
       "      <td>1</td>\n",
       "    </tr>\n",
       "    <tr>\n",
       "      <th>404287</th>\n",
       "      <td>404287</td>\n",
       "      <td>537928</td>\n",
       "      <td>537929</td>\n",
       "      <td>What is one coin?</td>\n",
       "      <td>What's this coin?</td>\n",
       "      <td>0</td>\n",
       "    </tr>\n",
       "    <tr>\n",
       "      <th>404288</th>\n",
       "      <td>404288</td>\n",
       "      <td>537930</td>\n",
       "      <td>537931</td>\n",
       "      <td>What is the approx annual cost of living while...</td>\n",
       "      <td>I am having little hairfall problem but I want...</td>\n",
       "      <td>0</td>\n",
       "    </tr>\n",
       "    <tr>\n",
       "      <th>404289</th>\n",
       "      <td>404289</td>\n",
       "      <td>537932</td>\n",
       "      <td>537933</td>\n",
       "      <td>What is like to have sex with cousin?</td>\n",
       "      <td>What is it like to have sex with your cousin?</td>\n",
       "      <td>0</td>\n",
       "    </tr>\n",
       "  </tbody>\n",
       "</table>\n",
       "<p>404290 rows × 6 columns</p>\n",
       "</div>"
      ],
      "text/plain": [
       "            id    qid1    qid2  \\\n",
       "0            0       1       2   \n",
       "1            1       3       4   \n",
       "2            2       5       6   \n",
       "3            3       7       8   \n",
       "4            4       9      10   \n",
       "...        ...     ...     ...   \n",
       "404285  404285  433578  379845   \n",
       "404286  404286   18840  155606   \n",
       "404287  404287  537928  537929   \n",
       "404288  404288  537930  537931   \n",
       "404289  404289  537932  537933   \n",
       "\n",
       "                                                question1  \\\n",
       "0       What is the step by step guide to invest in sh...   \n",
       "1       What is the story of Kohinoor (Koh-i-Noor) Dia...   \n",
       "2       How can I increase the speed of my internet co...   \n",
       "3       Why am I mentally very lonely? How can I solve...   \n",
       "4       Which one dissolve in water quikly sugar, salt...   \n",
       "...                                                   ...   \n",
       "404285  How many keywords are there in the Racket prog...   \n",
       "404286          Do you believe there is life after death?   \n",
       "404287                                  What is one coin?   \n",
       "404288  What is the approx annual cost of living while...   \n",
       "404289              What is like to have sex with cousin?   \n",
       "\n",
       "                                                question2  is_duplicate  \n",
       "0       What is the step by step guide to invest in sh...             0  \n",
       "1       What would happen if the Indian government sto...             0  \n",
       "2       How can Internet speed be increased by hacking...             0  \n",
       "3       Find the remainder when [math]23^{24}[/math] i...             0  \n",
       "4                 Which fish would survive in salt water?             0  \n",
       "...                                                   ...           ...  \n",
       "404285  How many keywords are there in PERL Programmin...             0  \n",
       "404286         Is it true that there is life after death?             1  \n",
       "404287                                  What's this coin?             0  \n",
       "404288  I am having little hairfall problem but I want...             0  \n",
       "404289      What is it like to have sex with your cousin?             0  \n",
       "\n",
       "[404290 rows x 6 columns]"
      ]
     },
     "execution_count": 3,
     "metadata": {},
     "output_type": "execute_result"
    }
   ],
   "source": [
    "data"
   ]
  },
  {
   "cell_type": "code",
   "execution_count": 4,
   "id": "6f1ce612",
   "metadata": {},
   "outputs": [],
   "source": [
    "data = data.drop(['id','qid1','qid2'], axis=1)"
   ]
  },
  {
   "cell_type": "code",
   "execution_count": 5,
   "id": "d34d9e5b",
   "metadata": {},
   "outputs": [
    {
     "data": {
      "text/html": [
       "<div>\n",
       "<style scoped>\n",
       "    .dataframe tbody tr th:only-of-type {\n",
       "        vertical-align: middle;\n",
       "    }\n",
       "\n",
       "    .dataframe tbody tr th {\n",
       "        vertical-align: top;\n",
       "    }\n",
       "\n",
       "    .dataframe thead th {\n",
       "        text-align: right;\n",
       "    }\n",
       "</style>\n",
       "<table border=\"1\" class=\"dataframe\">\n",
       "  <thead>\n",
       "    <tr style=\"text-align: right;\">\n",
       "      <th></th>\n",
       "      <th>question1</th>\n",
       "      <th>question2</th>\n",
       "      <th>is_duplicate</th>\n",
       "    </tr>\n",
       "  </thead>\n",
       "  <tbody>\n",
       "    <tr>\n",
       "      <th>0</th>\n",
       "      <td>What is the step by step guide to invest in sh...</td>\n",
       "      <td>What is the step by step guide to invest in sh...</td>\n",
       "      <td>0</td>\n",
       "    </tr>\n",
       "    <tr>\n",
       "      <th>1</th>\n",
       "      <td>What is the story of Kohinoor (Koh-i-Noor) Dia...</td>\n",
       "      <td>What would happen if the Indian government sto...</td>\n",
       "      <td>0</td>\n",
       "    </tr>\n",
       "    <tr>\n",
       "      <th>2</th>\n",
       "      <td>How can I increase the speed of my internet co...</td>\n",
       "      <td>How can Internet speed be increased by hacking...</td>\n",
       "      <td>0</td>\n",
       "    </tr>\n",
       "    <tr>\n",
       "      <th>3</th>\n",
       "      <td>Why am I mentally very lonely? How can I solve...</td>\n",
       "      <td>Find the remainder when [math]23^{24}[/math] i...</td>\n",
       "      <td>0</td>\n",
       "    </tr>\n",
       "    <tr>\n",
       "      <th>4</th>\n",
       "      <td>Which one dissolve in water quikly sugar, salt...</td>\n",
       "      <td>Which fish would survive in salt water?</td>\n",
       "      <td>0</td>\n",
       "    </tr>\n",
       "  </tbody>\n",
       "</table>\n",
       "</div>"
      ],
      "text/plain": [
       "                                           question1  \\\n",
       "0  What is the step by step guide to invest in sh...   \n",
       "1  What is the story of Kohinoor (Koh-i-Noor) Dia...   \n",
       "2  How can I increase the speed of my internet co...   \n",
       "3  Why am I mentally very lonely? How can I solve...   \n",
       "4  Which one dissolve in water quikly sugar, salt...   \n",
       "\n",
       "                                           question2  is_duplicate  \n",
       "0  What is the step by step guide to invest in sh...             0  \n",
       "1  What would happen if the Indian government sto...             0  \n",
       "2  How can Internet speed be increased by hacking...             0  \n",
       "3  Find the remainder when [math]23^{24}[/math] i...             0  \n",
       "4            Which fish would survive in salt water?             0  "
      ]
     },
     "execution_count": 5,
     "metadata": {},
     "output_type": "execute_result"
    }
   ],
   "source": [
    "data.head()"
   ]
  },
  {
   "cell_type": "code",
   "execution_count": 6,
   "id": "5347c688",
   "metadata": {},
   "outputs": [],
   "source": [
    "import nltk\n",
    "from nltk.stem import WordNetLemmatizer\n",
    "from nltk.tokenize import word_tokenize\n",
    "from nltk.corpus import stopwords\n",
    "\n",
    "# Creating the cleaning function\n",
    "def clean(text):\n",
    "    # Creating object for lemmatization\n",
    "    wn = nltk.WordNetLemmatizer()\n",
    "    \n",
    "    # Tokenizing text data\n",
    "    tokens = nltk.word_tokenize(text)\n",
    "    \n",
    "    # Lemmatization and removing punctuation\n",
    "    lem_text = [wn.lemmatize(word) for word in tokens if word.isalpha()]\n",
    "    \n",
    "    # Lowercase all letters\n",
    "    lower_text = [word.lower() for word in lem_text]\n",
    "    \n",
    "    # Remove stop words\n",
    "    stop_words = set(stopwords.words('english'))\n",
    "    clean_text = [word for word in lower_text if word not in stop_words]\n",
    "    \n",
    "    return clean_text\n"
   ]
  },
  {
   "cell_type": "code",
   "execution_count": 7,
   "id": "fc4968a6",
   "metadata": {},
   "outputs": [],
   "source": [
    "data['question1'] = data['question1'].astype(str).apply(lambda x: clean(x))"
   ]
  },
  {
   "cell_type": "code",
   "execution_count": 8,
   "id": "d2aa2202",
   "metadata": {},
   "outputs": [],
   "source": [
    "data['question2'] = data['question2'].astype(str).apply(lambda x: clean(x))"
   ]
  },
  {
   "cell_type": "code",
   "execution_count": 9,
   "id": "6254cd04",
   "metadata": {
    "scrolled": true
   },
   "outputs": [
    {
     "data": {
      "text/html": [
       "<div>\n",
       "<style scoped>\n",
       "    .dataframe tbody tr th:only-of-type {\n",
       "        vertical-align: middle;\n",
       "    }\n",
       "\n",
       "    .dataframe tbody tr th {\n",
       "        vertical-align: top;\n",
       "    }\n",
       "\n",
       "    .dataframe thead th {\n",
       "        text-align: right;\n",
       "    }\n",
       "</style>\n",
       "<table border=\"1\" class=\"dataframe\">\n",
       "  <thead>\n",
       "    <tr style=\"text-align: right;\">\n",
       "      <th></th>\n",
       "      <th>question1</th>\n",
       "      <th>question2</th>\n",
       "      <th>is_duplicate</th>\n",
       "    </tr>\n",
       "  </thead>\n",
       "  <tbody>\n",
       "    <tr>\n",
       "      <th>0</th>\n",
       "      <td>[step, step, guide, invest, share, market, india]</td>\n",
       "      <td>[step, step, guide, invest, share, market]</td>\n",
       "      <td>0</td>\n",
       "    </tr>\n",
       "    <tr>\n",
       "      <th>1</th>\n",
       "      <td>[story, kohinoor, diamond]</td>\n",
       "      <td>[would, happen, indian, government, stole, koh...</td>\n",
       "      <td>0</td>\n",
       "    </tr>\n",
       "    <tr>\n",
       "      <th>2</th>\n",
       "      <td>[increase, speed, internet, connection, using,...</td>\n",
       "      <td>[internet, speed, increased, hacking, dns]</td>\n",
       "      <td>0</td>\n",
       "    </tr>\n",
       "    <tr>\n",
       "      <th>3</th>\n",
       "      <td>[mentally, lonely, solve]</td>\n",
       "      <td>[find, remainder, math, divided]</td>\n",
       "      <td>0</td>\n",
       "    </tr>\n",
       "    <tr>\n",
       "      <th>4</th>\n",
       "      <td>[one, dissolve, water, quikly, sugar, salt, me...</td>\n",
       "      <td>[fish, would, survive, salt, water]</td>\n",
       "      <td>0</td>\n",
       "    </tr>\n",
       "    <tr>\n",
       "      <th>...</th>\n",
       "      <td>...</td>\n",
       "      <td>...</td>\n",
       "      <td>...</td>\n",
       "    </tr>\n",
       "    <tr>\n",
       "      <th>404285</th>\n",
       "      <td>[many, keywords, racket, programming, language...</td>\n",
       "      <td>[many, keywords, perl, programming, language, ...</td>\n",
       "      <td>0</td>\n",
       "    </tr>\n",
       "    <tr>\n",
       "      <th>404286</th>\n",
       "      <td>[believe, life, death]</td>\n",
       "      <td>[true, life, death]</td>\n",
       "      <td>1</td>\n",
       "    </tr>\n",
       "    <tr>\n",
       "      <th>404287</th>\n",
       "      <td>[one, coin]</td>\n",
       "      <td>[coin]</td>\n",
       "      <td>0</td>\n",
       "    </tr>\n",
       "    <tr>\n",
       "      <th>404288</th>\n",
       "      <td>[approx, annual, cost, living, studying, uic, ...</td>\n",
       "      <td>[little, hairfall, problem, want, use, hair, s...</td>\n",
       "      <td>0</td>\n",
       "    </tr>\n",
       "    <tr>\n",
       "      <th>404289</th>\n",
       "      <td>[like, sex, cousin]</td>\n",
       "      <td>[like, sex, cousin]</td>\n",
       "      <td>0</td>\n",
       "    </tr>\n",
       "  </tbody>\n",
       "</table>\n",
       "<p>404290 rows × 3 columns</p>\n",
       "</div>"
      ],
      "text/plain": [
       "                                                question1  \\\n",
       "0       [step, step, guide, invest, share, market, india]   \n",
       "1                              [story, kohinoor, diamond]   \n",
       "2       [increase, speed, internet, connection, using,...   \n",
       "3                               [mentally, lonely, solve]   \n",
       "4       [one, dissolve, water, quikly, sugar, salt, me...   \n",
       "...                                                   ...   \n",
       "404285  [many, keywords, racket, programming, language...   \n",
       "404286                             [believe, life, death]   \n",
       "404287                                        [one, coin]   \n",
       "404288  [approx, annual, cost, living, studying, uic, ...   \n",
       "404289                                [like, sex, cousin]   \n",
       "\n",
       "                                                question2  is_duplicate  \n",
       "0              [step, step, guide, invest, share, market]             0  \n",
       "1       [would, happen, indian, government, stole, koh...             0  \n",
       "2              [internet, speed, increased, hacking, dns]             0  \n",
       "3                        [find, remainder, math, divided]             0  \n",
       "4                     [fish, would, survive, salt, water]             0  \n",
       "...                                                   ...           ...  \n",
       "404285  [many, keywords, perl, programming, language, ...             0  \n",
       "404286                                [true, life, death]             1  \n",
       "404287                                             [coin]             0  \n",
       "404288  [little, hairfall, problem, want, use, hair, s...             0  \n",
       "404289                                [like, sex, cousin]             0  \n",
       "\n",
       "[404290 rows x 3 columns]"
      ]
     },
     "execution_count": 9,
     "metadata": {},
     "output_type": "execute_result"
    }
   ],
   "source": [
    "data"
   ]
  },
  {
   "attachments": {},
   "cell_type": "markdown",
   "id": "39111176",
   "metadata": {},
   "source": [
    "### Average of word embeddings for each question in the training set"
   ]
  },
  {
   "cell_type": "code",
   "execution_count": 10,
   "id": "d563689f",
   "metadata": {},
   "outputs": [
    {
     "name": "stdout",
     "output_type": "stream",
     "text": [
      "[[ 0  0  0 ...  0 -1  0]\n",
      " [ 0  0  0 ...  0  0  0]\n",
      " [ 0  0 -1 ...  0  0  0]\n",
      " ...\n",
      " [ 0  0  1 ...  0  0  0]\n",
      " [ 0  0  1 ...  0  0  1]\n",
      " [ 0  0  0 ...  0  0  0]]\n",
      "[[ 0  0  0 ...  0 -1  0]\n",
      " [ 0  0  0 ...  0  0  0]\n",
      " [ 0  0  0 ...  0  0  1]\n",
      " ...\n",
      " [ 0  0  0 ...  0  0  0]\n",
      " [ 0  0  1 ...  0  0  0]\n",
      " [ 0  0  0 ...  0  0  0]]\n",
      "[0 0 1 ... 1 0 1]\n"
     ]
    }
   ],
   "source": [
    "import pandas as pd\n",
    "import nltk\n",
    "from nltk.corpus import stopwords\n",
    "from nltk.tokenize import word_tokenize\n",
    "from gensim.models import Word2Vec\n",
    "import numpy as np\n",
    "from sklearn.model_selection import train_test_split\n",
    "from tensorflow.keras.preprocessing.sequence import pad_sequences\n",
    "\n",
    "\n",
    "train_data, test_data = train_test_split(data, test_size=0.2, random_state=42)\n",
    "\n",
    "sentences = train_data['question1'].tolist() + train_data['question2'].tolist()\n",
    "\n",
    "# Train Word2Vec model\n",
    "model = Word2Vec(sentences, min_count=1)\n",
    "\n",
    "# Calculate average word embeddings for each question in the training set\n",
    "train_embeddings_question1 = []\n",
    "train_embeddings_question2 = []\n",
    "\n",
    "for words in train_data['question1']:\n",
    "    word_vectors = [model.wv[word] for word in words if word in model.wv]\n",
    "    if len(word_vectors) > 0:\n",
    "        train_embeddings_question1.append(np.mean(word_vectors, axis=0))\n",
    "    else:\n",
    "        train_embeddings_question1.append(np.zeros(model.vector_size))\n",
    "        \n",
    "for words in train_data['question2']:\n",
    "    word_vectors = [model.wv[word] for word in words if word in model.wv]\n",
    "    if len(word_vectors) > 0:\n",
    "        train_embeddings_question2.append(np.mean(word_vectors, axis=0))\n",
    "    else:\n",
    "        train_embeddings_question2.append(np.zeros(model.vector_size))\n",
    "\n",
    "\n",
    "train_embeddings_question1 = np.array(train_embeddings_question1)\n",
    "train_embeddings_question2 = np.array(train_embeddings_question2)\n",
    "\n",
    "# Prepare training data\n",
    "train_X1 = pad_sequences(train_embeddings_question1)\n",
    "train_X2 = pad_sequences(train_embeddings_question2)\n",
    "train_y = train_data['is_duplicate'].values\n",
    "\n",
    "print(train_X1)\n",
    "print(train_X2)\n",
    "print(train_y)\n",
    "\n"
   ]
  },
  {
   "cell_type": "code",
   "execution_count": 11,
   "id": "c733a4b8",
   "metadata": {},
   "outputs": [
    {
     "data": {
      "text/plain": [
       "(323432, 100)"
      ]
     },
     "execution_count": 11,
     "metadata": {},
     "output_type": "execute_result"
    }
   ],
   "source": [
    "train_X1.shape"
   ]
  },
  {
   "cell_type": "code",
   "execution_count": 12,
   "id": "be13c8f5",
   "metadata": {},
   "outputs": [
    {
     "data": {
      "text/plain": [
       "(323432, 100)"
      ]
     },
     "execution_count": 12,
     "metadata": {},
     "output_type": "execute_result"
    }
   ],
   "source": [
    "train_X2.shape"
   ]
  },
  {
   "cell_type": "code",
   "execution_count": 13,
   "id": "fa0ad443",
   "metadata": {},
   "outputs": [
    {
     "data": {
      "text/plain": [
       "(323432,)"
      ]
     },
     "execution_count": 13,
     "metadata": {},
     "output_type": "execute_result"
    }
   ],
   "source": [
    "train_y.shape"
   ]
  },
  {
   "attachments": {},
   "cell_type": "markdown",
   "id": "b5054b5d",
   "metadata": {},
   "source": [
    "### Average of word embeddings for each question in the testing set"
   ]
  },
  {
   "cell_type": "code",
   "execution_count": 14,
   "id": "d8a3d710",
   "metadata": {},
   "outputs": [
    {
     "name": "stdout",
     "output_type": "stream",
     "text": [
      "[[0 1 0 ... 0 0 0]\n",
      " [0 0 0 ... 0 0 0]\n",
      " [0 0 1 ... 0 0 1]\n",
      " ...\n",
      " [0 0 0 ... 0 0 0]\n",
      " [0 0 0 ... 0 0 1]\n",
      " [0 0 0 ... 0 0 0]]\n",
      "[[ 0  0  0 ...  1  0  0]\n",
      " [ 0  0  0 ...  0  0  0]\n",
      " [ 0  0  0 ...  0  0  0]\n",
      " ...\n",
      " [ 0 -1  0 ...  0  0  1]\n",
      " [ 0  0  0 ...  0  0  0]\n",
      " [ 0  0  0 ...  0 -1  0]]\n",
      "[0 0 0 ... 0 0 0]\n"
     ]
    }
   ],
   "source": [
    "test_embeddings_question1 = []\n",
    "test_embeddings_question2 = []\n",
    "\n",
    "for words in test_data['question1']:\n",
    "    word_vectors = [model.wv[word] for word in words if word in model.wv]\n",
    "    if len(word_vectors) > 0:\n",
    "        test_embeddings_question1.append(np.mean(word_vectors, axis=0))\n",
    "    else:\n",
    "        test_embeddings_question1.append(np.zeros(model.vector_size))\n",
    "        \n",
    "for words in test_data['question2']:\n",
    "    word_vectors = [model.wv[word] for word in words if word in model.wv]\n",
    "    if len(word_vectors) > 0:\n",
    "        test_embeddings_question2.append(np.mean(word_vectors, axis=0))\n",
    "    else:\n",
    "        test_embeddings_question2.append(np.zeros(model.vector_size))\n",
    "\n",
    "\n",
    "test_embeddings_question1 = np.array(test_embeddings_question1)\n",
    "test_embeddings_question2 = np.array(test_embeddings_question2)\n",
    "\n",
    "# Prepare testing data\n",
    "test_X1 = pad_sequences(test_embeddings_question1)\n",
    "test_X2 = pad_sequences(test_embeddings_question2)\n",
    "test_y = test_data['is_duplicate'].values\n",
    "\n",
    "print(test_X1)\n",
    "print(test_X2)\n",
    "print(test_y)\n"
   ]
  },
  {
   "cell_type": "code",
   "execution_count": 15,
   "id": "61ff13d2",
   "metadata": {},
   "outputs": [
    {
     "data": {
      "text/plain": [
       "(80858, 100)"
      ]
     },
     "execution_count": 15,
     "metadata": {},
     "output_type": "execute_result"
    }
   ],
   "source": [
    "test_X1.shape"
   ]
  },
  {
   "cell_type": "code",
   "execution_count": 16,
   "id": "3f788a2c",
   "metadata": {},
   "outputs": [
    {
     "data": {
      "text/plain": [
       "(80858, 100)"
      ]
     },
     "execution_count": 16,
     "metadata": {},
     "output_type": "execute_result"
    }
   ],
   "source": [
    "test_X2.shape"
   ]
  },
  {
   "cell_type": "code",
   "execution_count": 17,
   "id": "a9fe2aa8",
   "metadata": {},
   "outputs": [
    {
     "data": {
      "text/plain": [
       "(80858,)"
      ]
     },
     "execution_count": 17,
     "metadata": {},
     "output_type": "execute_result"
    }
   ],
   "source": [
    "test_y.shape"
   ]
  },
  {
   "attachments": {},
   "cell_type": "markdown",
   "id": "54988b99",
   "metadata": {},
   "source": [
    "# Manhattan Siamese LSTM for Question Similarity\n"
   ]
  },
  {
   "cell_type": "code",
   "execution_count": 18,
   "id": "501307c0",
   "metadata": {},
   "outputs": [
    {
     "name": "stdout",
     "output_type": "stream",
     "text": [
      "Epoch 1/20\n",
      "2527/2527 [==============================] - 36s 10ms/step - loss: 0.6547 - accuracy: 0.6373 - val_loss: 0.5942 - val_accuracy: 0.7112\n",
      "Epoch 2/20\n",
      "2527/2527 [==============================] - 26s 10ms/step - loss: 0.5713 - accuracy: 0.7225 - val_loss: 0.5633 - val_accuracy: 0.7264\n",
      "Epoch 3/20\n",
      "2527/2527 [==============================] - 26s 10ms/step - loss: 0.5542 - accuracy: 0.7337 - val_loss: 0.5542 - val_accuracy: 0.7322\n",
      "Epoch 4/20\n",
      "2527/2527 [==============================] - 25s 10ms/step - loss: 0.5440 - accuracy: 0.7414 - val_loss: 0.5475 - val_accuracy: 0.7353\n",
      "Epoch 5/20\n",
      "2527/2527 [==============================] - 25s 10ms/step - loss: 0.5351 - accuracy: 0.7465 - val_loss: 0.5411 - val_accuracy: 0.7379\n",
      "Epoch 6/20\n",
      "2527/2527 [==============================] - 27s 11ms/step - loss: 0.5264 - accuracy: 0.7508 - val_loss: 0.5348 - val_accuracy: 0.7398\n",
      "Epoch 7/20\n",
      "2527/2527 [==============================] - 27s 11ms/step - loss: 0.5184 - accuracy: 0.7548 - val_loss: 0.5299 - val_accuracy: 0.7418\n",
      "Epoch 8/20\n",
      "2527/2527 [==============================] - 27s 11ms/step - loss: 0.5115 - accuracy: 0.7591 - val_loss: 0.5268 - val_accuracy: 0.7442\n",
      "Epoch 9/20\n",
      "2527/2527 [==============================] - 29s 12ms/step - loss: 0.5058 - accuracy: 0.7627 - val_loss: 0.5237 - val_accuracy: 0.7463\n",
      "Epoch 10/20\n",
      "2527/2527 [==============================] - 28s 11ms/step - loss: 0.5002 - accuracy: 0.7657 - val_loss: 0.5218 - val_accuracy: 0.7466\n",
      "Epoch 11/20\n",
      "2527/2527 [==============================] - 26s 10ms/step - loss: 0.4952 - accuracy: 0.7691 - val_loss: 0.5194 - val_accuracy: 0.7484\n",
      "Epoch 12/20\n",
      "2527/2527 [==============================] - 24s 10ms/step - loss: 0.4904 - accuracy: 0.7725 - val_loss: 0.5185 - val_accuracy: 0.7495\n",
      "Epoch 13/20\n",
      "2527/2527 [==============================] - 26s 10ms/step - loss: 0.4857 - accuracy: 0.7756 - val_loss: 0.5173 - val_accuracy: 0.7511\n",
      "Epoch 14/20\n",
      "2527/2527 [==============================] - 25s 10ms/step - loss: 0.4814 - accuracy: 0.7779 - val_loss: 0.5157 - val_accuracy: 0.7515\n",
      "Epoch 15/20\n",
      "2527/2527 [==============================] - 24s 9ms/step - loss: 0.4773 - accuracy: 0.7802 - val_loss: 0.5150 - val_accuracy: 0.7520\n",
      "Epoch 16/20\n",
      "2527/2527 [==============================] - 25s 10ms/step - loss: 0.4734 - accuracy: 0.7831 - val_loss: 0.5140 - val_accuracy: 0.7515\n",
      "Epoch 17/20\n",
      "2527/2527 [==============================] - 24s 10ms/step - loss: 0.4696 - accuracy: 0.7855 - val_loss: 0.5138 - val_accuracy: 0.7524\n",
      "Epoch 18/20\n",
      "2527/2527 [==============================] - 25s 10ms/step - loss: 0.4659 - accuracy: 0.7878 - val_loss: 0.5130 - val_accuracy: 0.7531\n",
      "Epoch 19/20\n",
      "2527/2527 [==============================] - 25s 10ms/step - loss: 0.4624 - accuracy: 0.7895 - val_loss: 0.5125 - val_accuracy: 0.7541\n",
      "Epoch 20/20\n",
      "2527/2527 [==============================] - 26s 10ms/step - loss: 0.4591 - accuracy: 0.7919 - val_loss: 0.5125 - val_accuracy: 0.7544\n"
     ]
    },
    {
     "data": {
      "image/png": "[encoded data removed]",
      "text/plain": [
       "<Figure size 432x288 with 1 Axes>"
      ]
     },
     "metadata": {
      "needs_background": "light"
     },
     "output_type": "display_data"
    },
    {
     "data": {
      "image/png": "[encoded data removed]",
      "text/plain": [
       "<Figure size 432x288 with 1 Axes>"
      ]
     },
     "metadata": {
      "needs_background": "light"
     },
     "output_type": "display_data"
    }
   ],
   "source": [
    "import numpy as np\n",
    "import matplotlib.pyplot as plt\n",
    "from tensorflow.keras.models import Model\n",
    "from tensorflow.keras.layers import Input, LSTM, Concatenate, Dense, Lambda, Reshape\n",
    "from tensorflow.keras.optimizers import Adam\n",
    "from tensorflow.keras.losses import binary_crossentropy\n",
    "import tensorflow.keras.backend as K\n",
    "\n",
    "def manhattan_distance(inputs):\n",
    "    x, y = inputs\n",
    "    return K.exp(-K.sum(K.abs(x - y), axis=1, keepdims=True))\n",
    "\n",
    "\n",
    "def manhattan_siamese_lstm_model(input_shape, lstm_units=64):\n",
    "    \n",
    "    input1 = Input(shape=input_shape)\n",
    "    input2 = Input(shape=input_shape)\n",
    "\n",
    "    \n",
    "    reshaped_input1 = Reshape((1, input_shape[0]))(input1)\n",
    "    reshaped_input2 = Reshape((1, input_shape[0]))(input2)\n",
    "\n",
    "    \n",
    "    lstm1 = LSTM(lstm_units)(reshaped_input1)\n",
    "\n",
    "    lstm2 = LSTM(lstm_units)(reshaped_input2)\n",
    "\n",
    "    distance = Lambda(manhattan_distance)([lstm1, lstm2])\n",
    "\n",
    "    output = Dense(1, activation='sigmoid')(distance)\n",
    "\n",
    "    model = Model(inputs=[input1, input2], outputs=output)\n",
    "\n",
    "    return model\n",
    "\n",
    "\n",
    "\n",
    "input_shape = (train_X1.shape[1],)\n",
    "\n",
    "\n",
    "model = manhattan_siamese_lstm_model(input_shape)\n",
    "\n",
    "# Compile the model\n",
    "model.compile(loss=binary_crossentropy, optimizer=Adam(learning_rate=0.001), metrics=['accuracy'])\n",
    "\n",
    "# Train the model\n",
    "history = model.fit([train_X1, train_X2], train_y, batch_size=128, epochs=20, validation_data=([test_X1, test_X2], test_y))\n",
    "\n",
    "# Accuracy\n",
    "plt.plot(history.history['accuracy'])\n",
    "plt.plot(history.history['val_accuracy'])\n",
    "plt.title('Model Accuracy')\n",
    "plt.xlabel('Epoch')\n",
    "plt.ylabel('Accuracy')\n",
    "plt.legend(['train', 'val'], loc='upper left')\n",
    "plt.show()\n",
    "\n",
    "# Loss\n",
    "plt.plot(history.history['loss'])\n",
    "plt.plot(history.history['val_loss'])\n",
    "plt.title('Model Loss')\n",
    "plt.xlabel('Epoch')\n",
    "plt.ylabel('Loss')\n",
    "plt.legend(['train', 'val'], loc='upper left')\n",
    "plt.show()\n"
   ]
  },
  {
   "cell_type": "code",
   "execution_count": null,
   "id": "979f5a58",
   "metadata": {},
   "outputs": [],
   "source": []
  }
 ],
 "metadata": {
  "kernelspec": {
   "display_name": "Python 3 (ipykernel)",
   "language": "python",
   "name": "python3"
  },
  "language_info": {
   "codemirror_mode": {
    "name": "ipython",
    "version": 3
   },
   "file_extension": ".py",
   "mimetype": "text/x-python",
   "name": "python",
   "nbconvert_exporter": "python",
   "pygments_lexer": "ipython3",
   "version": "3.9.12"
  }
 },
 "nbformat": 4,
 "nbformat_minor": 5
}
